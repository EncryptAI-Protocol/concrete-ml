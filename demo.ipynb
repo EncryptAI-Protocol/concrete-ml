{
 "cells": [
  {
   "cell_type": "code",
   "execution_count": null,
   "metadata": {},
   "outputs": [
    {
     "name": "stderr",
     "output_type": "stream",
     "text": [
      "/Users/marc/Library/Python/3.9/lib/python/site-packages/tqdm/auto.py:21: TqdmWarning: IProgress not found. Please update jupyter and ipywidgets. See https://ipywidgets.readthedocs.io/en/stable/user_install.html\n",
      "  from .autonotebook import tqdm as notebook_tqdm\n"
     ]
    }
   ],
   "source": [
    "from sklearn.datasets import make_classification\n",
    "from sklearn.model_selection import train_test_split\n",
    "\n",
    "from src.concrete.ml.sklearn import LogisticRegression\n",
    "\n",
    "# Create the data for classification:\n",
    "X, y = make_classification()\n",
    "\n",
    "# Retrieve train and test sets\n",
    "X_train, X_test, y_train, y_test = train_test_split(X, y, test_size=0.4)\n",
    "\n",
    "# Instantiate, train and compile the model\n",
    "model = LogisticRegression()\n",
    "model.fit(X_train, y_train)\n",
    "model.compile(X_train)\n",
    "\n",
    "# Run the inference in FHE\n",
    "#y_pred_fhe = model.predict(X_test, fhe=\"execute\")\n",
    "\n",
    "# Dump the model in a string\n",
    "dumped_model_str = model.dumps()\n"
   ]
  },
  {
   "cell_type": "code",
   "execution_count": 2,
   "metadata": {},
   "outputs": [],
   "source": [
    "from pathlib import Path\n",
    "\n",
    "dumped_model_path = Path(\"logistic_regression_model.json\")\n",
    "\n",
    "# Any kind of file-like object can be used \n",
    "with dumped_model_path.open(\"w\") as f:\n",
    "\n",
    "    # Dump the model in a file\n",
    "    model.dump(f)"
   ]
  },
  {
   "cell_type": "code",
   "execution_count": 3,
   "metadata": {},
   "outputs": [
    {
     "name": "stdout",
     "output_type": "stream",
     "text": [
      "Predictions are: [0 0 1 0 0 0 1 1 0 1 1 1 1 0 0 0 1 1 1 0 1 1 1 1 0 1 1 0 0 0 0 1 1 0 0 0 1\n",
      " 1 0 1]\n",
      "\n",
      "The proof is: 2817646103635231385\n"
     ]
    }
   ],
   "source": [
    "import numpy as np\n",
    "from src.concrete.ml.common.serialization.loaders import load, loads\n",
    "import json\n",
    "from pathlib import Path\n",
    "\n",
    "dumped_model_path = Path(\"logistic_regression_model.json\")\n",
    "\n",
    "with open('logistic_regression_model.json', 'r') as j:\n",
    "     contents = json.loads(j.read())\n",
    "\n",
    "model = contents['type_name']\n",
    "serialized_value = np.array(contents['serialized_value']['_q_weights']['serialized_value'])\n",
    "\n",
    "# Any kind of file-like object can be used \n",
    "with open('logistic_regression_model.json', 'r') as f:\n",
    "\n",
    "    # Load the model from a file\n",
    "    loaded_model = load(f)\n",
    "\n",
    "# Compile the model\n",
    "loaded_model.compile(X_train)\n",
    "\n",
    "id = '1234'\n",
    "\n",
    "# Run the inference in FHE using the loaded model\n",
    "y_pred_fhe_loaded, proof= loaded_model.predict(X_test, model, serialized_value,\n",
    "                                               fhe=\"execute\", id=id)\n",
    "\n",
    "print(f\"Predictions are: {y_pred_fhe_loaded}\\n\")\n",
    "print(f\"The proof is: {proof}\")"
   ]
  },
  {
   "cell_type": "code",
   "execution_count": 4,
   "metadata": {},
   "outputs": [
    {
     "ename": "ValueError",
     "evalue": "You are being fooled! The model is not the selected one.",
     "output_type": "error",
     "traceback": [
      "\u001b[0;31m---------------------------------------------------------------------------\u001b[0m",
      "\u001b[0;31mValueError\u001b[0m                                Traceback (most recent call last)",
      "Cell \u001b[0;32mIn[4], line 2\u001b[0m\n\u001b[1;32m      1\u001b[0m \u001b[38;5;66;03m# Run the inference in FHE using the loaded model\u001b[39;00m\n\u001b[0;32m----> 2\u001b[0m y_pred_fhe_loaded, proof\u001b[38;5;241m=\u001b[39m \u001b[43mloaded_model\u001b[49m\u001b[38;5;241;43m.\u001b[39;49m\u001b[43mpredict\u001b[49m\u001b[43m(\u001b[49m\u001b[43mX_test\u001b[49m\u001b[43m,\u001b[49m\u001b[43m \u001b[49m\u001b[38;5;124;43m'\u001b[39;49m\u001b[38;5;124;43mLinearRegression\u001b[39;49m\u001b[38;5;124;43m'\u001b[39;49m\u001b[43m,\u001b[49m\u001b[43m \u001b[49m\u001b[43mserialized_value\u001b[49m\u001b[43m,\u001b[49m\n\u001b[1;32m      3\u001b[0m \u001b[43m                                               \u001b[49m\u001b[43mfhe\u001b[49m\u001b[38;5;241;43m=\u001b[39;49m\u001b[38;5;124;43m\"\u001b[39;49m\u001b[38;5;124;43mexecute\u001b[39;49m\u001b[38;5;124;43m\"\u001b[39;49m\u001b[43m,\u001b[49m\u001b[43m \u001b[49m\u001b[38;5;28;43mid\u001b[39;49m\u001b[38;5;241;43m=\u001b[39;49m\u001b[38;5;124;43m'\u001b[39;49m\u001b[38;5;124;43m1234\u001b[39;49m\u001b[38;5;124;43m'\u001b[39;49m\u001b[43m)\u001b[49m\n\u001b[1;32m      5\u001b[0m \u001b[38;5;28mprint\u001b[39m(\u001b[38;5;124mf\u001b[39m\u001b[38;5;124m\"\u001b[39m\u001b[38;5;124mPredictions are: \u001b[39m\u001b[38;5;132;01m{\u001b[39;00my_pred_fhe_loaded\u001b[38;5;132;01m}\u001b[39;00m\u001b[38;5;130;01m\\n\u001b[39;00m\u001b[38;5;124m\"\u001b[39m)\n\u001b[1;32m      6\u001b[0m \u001b[38;5;28mprint\u001b[39m(\u001b[38;5;124mf\u001b[39m\u001b[38;5;124m\"\u001b[39m\u001b[38;5;124mThe proof is: \u001b[39m\u001b[38;5;132;01m{\u001b[39;00mproof\u001b[38;5;132;01m}\u001b[39;00m\u001b[38;5;124m\"\u001b[39m)\n",
      "File \u001b[0;32m~/Documents/ZKML/concrete-ml/src/concrete/ml/sklearn/base.py:1965\u001b[0m, in \u001b[0;36mSklearnLinearClassifierMixin.predict\u001b[0;34m(self, X, model, serialized_value, fhe, id)\u001b[0m\n\u001b[1;32m   1963\u001b[0m name \u001b[38;5;241m=\u001b[39m \u001b[38;5;28mstr\u001b[39m(\u001b[38;5;28mself\u001b[39m\u001b[38;5;241m.\u001b[39m\u001b[38;5;18m__class__\u001b[39m())[:\u001b[38;5;241m-\u001b[39m\u001b[38;5;241m2\u001b[39m]\n\u001b[1;32m   1964\u001b[0m \u001b[38;5;28;01mif\u001b[39;00m name \u001b[38;5;241m!=\u001b[39m model:\n\u001b[0;32m-> 1965\u001b[0m     \u001b[38;5;28;01mraise\u001b[39;00m \u001b[38;5;167;01mValueError\u001b[39;00m(\u001b[38;5;124m'\u001b[39m\u001b[38;5;124mYou are being fooled! The model is not the selected one.\u001b[39m\u001b[38;5;124m'\u001b[39m)\n\u001b[1;32m   1967\u001b[0m weights \u001b[38;5;241m=\u001b[39m \u001b[38;5;28mself\u001b[39m\u001b[38;5;241m.\u001b[39m\u001b[38;5;18m__dict__\u001b[39m[\u001b[38;5;124m'\u001b[39m\u001b[38;5;124m_q_weights\u001b[39m\u001b[38;5;124m'\u001b[39m]\n\u001b[1;32m   1968\u001b[0m \u001b[38;5;28;01mif\u001b[39;00m \u001b[38;5;129;01mnot\u001b[39;00m (weights\u001b[38;5;241m==\u001b[39mserialized_value)\u001b[38;5;241m.\u001b[39mall():\n",
      "\u001b[0;31mValueError\u001b[0m: You are being fooled! The model is not the selected one."
     ]
    }
   ],
   "source": [
    "# Run the inference in FHE using the loaded model\n",
    "y_pred_fhe_loaded, proof= loaded_model.predict(X_test, 'LinearRegression', serialized_value,\n",
    "                                               fhe=\"execute\", id='1234')\n",
    "\n",
    "print(f\"Predictions are: {y_pred_fhe_loaded}\\n\")\n",
    "print(f\"The proof is: {proof}\")\n"
   ]
  },
  {
   "cell_type": "code",
   "execution_count": 6,
   "metadata": {},
   "outputs": [],
   "source": [
    "np.savetxt(\"x_test.csv\", X_test, delimiter=\",\")"
   ]
  },
  {
   "cell_type": "code",
   "execution_count": null,
   "metadata": {},
   "outputs": [],
   "source": []
  }
 ],
 "metadata": {
  "kernelspec": {
   "display_name": "Python 3",
   "language": "python",
   "name": "python3"
  },
  "language_info": {
   "codemirror_mode": {
    "name": "ipython",
    "version": 3
   },
   "file_extension": ".py",
   "mimetype": "text/x-python",
   "name": "python",
   "nbconvert_exporter": "python",
   "pygments_lexer": "ipython3",
   "version": "3.9.6"
  }
 },
 "nbformat": 4,
 "nbformat_minor": 2
}
