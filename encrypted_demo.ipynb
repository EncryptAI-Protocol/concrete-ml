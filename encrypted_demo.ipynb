{
 "cells": [
  {
   "cell_type": "code",
   "execution_count": 2,
   "metadata": {},
   "outputs": [],
   "source": [
    "import pandas as pd\n",
    "import numpy as np \n",
    "from pathlib import Path\n",
    "import json\n",
    "\n",
    "import matplotlib.pyplot as plt \n",
    "from matplotlib.ticker import FuncFormatter\n",
    "import seaborn as sns\n",
    "\n",
    "from sklearn.model_selection import train_test_split\n",
    "from sklearn.preprocessing import StandardScaler, LabelEncoder\n",
    "from sklearn.metrics import accuracy_score\n",
    "from sklearn.metrics import r2_score\n",
    "from sklearn import datasets\n",
    "from sklearn.preprocessing import MinMaxScaler\n",
    "\n",
    "\n",
    "from src.concrete.ml.sklearn import SGDClassifier\n",
    "\n",
    "import warnings\n",
    "warnings.filterwarnings('ignore')"
   ]
  },
  {
   "cell_type": "code",
   "execution_count": 3,
   "metadata": {},
   "outputs": [],
   "source": [
    "N_ITERATIONS = 15\n",
    "RANDOM_STATE = 42\n",
    "X, y = datasets.load_breast_cancer(return_X_y=True)\n",
    "x_train, x_test, y_train, y_test = train_test_split(X, y, test_size=0.3, stratify=y)\n",
    "\n",
    "scaler = MinMaxScaler(feature_range=[-1, 1])\n",
    "x_train = scaler.fit_transform(x_train)\n",
    "x_test = scaler.transform(x_test)\n",
    "\n",
    "rng = np.random.default_rng(RANDOM_STATE)\n",
    "perm = rng.permutation(x_train.shape[0])\n",
    "\n",
    "x_train = x_train[perm, ::]\n",
    "y_train = y_train[perm]"
   ]
  },
  {
   "cell_type": "code",
   "execution_count": 4,
   "metadata": {},
   "outputs": [
    {
     "name": "stdout",
     "output_type": "stream",
     "text": [
      "The predictions are: [0 1 1 1 1 0 0 1 1 0 1 1 1 0 1 1 0 0 0 0 1 1 0 1 1 1 1 1 1 0 0 0 1 0 1 1 1\n",
      " 0 1 1 1 1 1 1 1 1 1 1 1 1 1 1 1 1 1 0 1 1 1 1 1 1 1 1 1 1 1 1 1 1 1 0 0 1\n",
      " 0 1 1 1 0 1 0 1 1 0 0 1 0 1 1 0 1 0 1 1 0 1 1 1 1 1 0 1 0 1 1 1 1 1 0 0 0\n",
      " 1 1 0 1 0 0 1 1 1 1 1 0 0 1 1 1 1 1 1 1 1 0 0 0 1 1 1 0 1 1 1 1 0 0 0 1 1\n",
      " 1 1 1 1 1 0 0 1 0 1 1 1 1 1 1 1 1 1 1 1 1 1 1]\n",
      " The proof is: 3a6a23a078435d1115fda1d6a16b84bb57ea37b273164a09e99b8bbd5e3e715a\n",
      "\n",
      "The accuracy is: 0.9005847953216374\n"
     ]
    }
   ],
   "source": [
    "parameters_range = (-1.0, 1.0)\n",
    "\n",
    "model_concrete = SGDClassifier(\n",
    "    random_state=RANDOM_STATE,\n",
    "    max_iter=N_ITERATIONS,\n",
    "    fit_encrypted=True,\n",
    "    parameters_range=parameters_range,\n",
    ")\n",
    "\n",
    "# Train with simulation on the full dataset\n",
    "model_concrete.fit(x_train, y_train, fhe=\"execute\")\n",
    "\n",
    "model_concrete.compile(x_train)\n",
    "\n",
    "dumped_model_path = Path(\"demo-data/classifier_fhe.json\")\n",
    "\n",
    "# Any kind of file-like object can be used \n",
    "with dumped_model_path.open(\"w\") as f:\n",
    "    # Dump the model in a file\n",
    "    model_concrete.dump(f)\n",
    "\n",
    "with open(\"demo-data/classifier_fhe.json\", 'r') as j:\n",
    "     contents = json.loads(j.read())\n",
    "\n",
    "model = contents['type_name']\n",
    "serialized_value = np.array(contents['serialized_value']['_q_weights']['serialized_value'])\n",
    "\n",
    "\n",
    "# Measure accuracy on the test set using simulation\n",
    "y_pred_fhe, proof = model_concrete.predict(x_test, model, serialized_value, fhe=\"execute\")\n",
    "\n",
    "accuracy_fhe = accuracy_score(y_test, y_pred_fhe)\n",
    "\n",
    "print(f'The predictions are: {y_pred_fhe}\\n The proof is: {proof}\\n')\n",
    "print(f'The accuracy is: {accuracy_fhe}')\n"
   ]
  }
 ],
 "metadata": {
  "kernelspec": {
   "display_name": "Python 3",
   "language": "python",
   "name": "python3"
  },
  "language_info": {
   "codemirror_mode": {
    "name": "ipython",
    "version": 3
   },
   "file_extension": ".py",
   "mimetype": "text/x-python",
   "name": "python",
   "nbconvert_exporter": "python",
   "pygments_lexer": "ipython3",
   "version": "3.9.6"
  }
 },
 "nbformat": 4,
 "nbformat_minor": 2
}
